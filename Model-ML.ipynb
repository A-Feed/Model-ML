{
  "nbformat": 4,
  "nbformat_minor": 0,
  "metadata": {
    "colab": {
      "provenance": []
    },
    "kernelspec": {
      "name": "python3",
      "display_name": "Python 3"
    },
    "language_info": {
      "name": "python"
    }
  },
  "cells": [
    {
      "cell_type": "code",
      "execution_count": 1,
      "metadata": {
        "colab": {
          "base_uri": "https://localhost:8080/"
        },
        "id": "GL5rFffV4Q2E",
        "outputId": "fdf569e0-dc1e-4e39-bc6a-f2df833fa574"
      },
      "outputs": [
        {
          "output_type": "stream",
          "name": "stdout",
          "text": [
            "Requirement already satisfied: tensorflow in /usr/local/lib/python3.10/dist-packages (2.15.0)\n",
            "Requirement already satisfied: absl-py>=1.0.0 in /usr/local/lib/python3.10/dist-packages (from tensorflow) (1.4.0)\n",
            "Requirement already satisfied: astunparse>=1.6.0 in /usr/local/lib/python3.10/dist-packages (from tensorflow) (1.6.3)\n",
            "Requirement already satisfied: flatbuffers>=23.5.26 in /usr/local/lib/python3.10/dist-packages (from tensorflow) (24.3.25)\n",
            "Requirement already satisfied: gast!=0.5.0,!=0.5.1,!=0.5.2,>=0.2.1 in /usr/local/lib/python3.10/dist-packages (from tensorflow) (0.5.4)\n",
            "Requirement already satisfied: google-pasta>=0.1.1 in /usr/local/lib/python3.10/dist-packages (from tensorflow) (0.2.0)\n",
            "Requirement already satisfied: h5py>=2.9.0 in /usr/local/lib/python3.10/dist-packages (from tensorflow) (3.9.0)\n",
            "Requirement already satisfied: libclang>=13.0.0 in /usr/local/lib/python3.10/dist-packages (from tensorflow) (18.1.1)\n",
            "Requirement already satisfied: ml-dtypes~=0.2.0 in /usr/local/lib/python3.10/dist-packages (from tensorflow) (0.2.0)\n",
            "Requirement already satisfied: numpy<2.0.0,>=1.23.5 in /usr/local/lib/python3.10/dist-packages (from tensorflow) (1.25.2)\n",
            "Requirement already satisfied: opt-einsum>=2.3.2 in /usr/local/lib/python3.10/dist-packages (from tensorflow) (3.3.0)\n",
            "Requirement already satisfied: packaging in /usr/local/lib/python3.10/dist-packages (from tensorflow) (24.1)\n",
            "Requirement already satisfied: protobuf!=4.21.0,!=4.21.1,!=4.21.2,!=4.21.3,!=4.21.4,!=4.21.5,<5.0.0dev,>=3.20.3 in /usr/local/lib/python3.10/dist-packages (from tensorflow) (3.20.3)\n",
            "Requirement already satisfied: setuptools in /usr/local/lib/python3.10/dist-packages (from tensorflow) (67.7.2)\n",
            "Requirement already satisfied: six>=1.12.0 in /usr/local/lib/python3.10/dist-packages (from tensorflow) (1.16.0)\n",
            "Requirement already satisfied: termcolor>=1.1.0 in /usr/local/lib/python3.10/dist-packages (from tensorflow) (2.4.0)\n",
            "Requirement already satisfied: typing-extensions>=3.6.6 in /usr/local/lib/python3.10/dist-packages (from tensorflow) (4.12.2)\n",
            "Requirement already satisfied: wrapt<1.15,>=1.11.0 in /usr/local/lib/python3.10/dist-packages (from tensorflow) (1.14.1)\n",
            "Requirement already satisfied: tensorflow-io-gcs-filesystem>=0.23.1 in /usr/local/lib/python3.10/dist-packages (from tensorflow) (0.37.0)\n",
            "Requirement already satisfied: grpcio<2.0,>=1.24.3 in /usr/local/lib/python3.10/dist-packages (from tensorflow) (1.64.1)\n",
            "Requirement already satisfied: tensorboard<2.16,>=2.15 in /usr/local/lib/python3.10/dist-packages (from tensorflow) (2.15.2)\n",
            "Requirement already satisfied: tensorflow-estimator<2.16,>=2.15.0 in /usr/local/lib/python3.10/dist-packages (from tensorflow) (2.15.0)\n",
            "Requirement already satisfied: keras<2.16,>=2.15.0 in /usr/local/lib/python3.10/dist-packages (from tensorflow) (2.15.0)\n",
            "Requirement already satisfied: wheel<1.0,>=0.23.0 in /usr/local/lib/python3.10/dist-packages (from astunparse>=1.6.0->tensorflow) (0.43.0)\n",
            "Requirement already satisfied: google-auth<3,>=1.6.3 in /usr/local/lib/python3.10/dist-packages (from tensorboard<2.16,>=2.15->tensorflow) (2.27.0)\n",
            "Requirement already satisfied: google-auth-oauthlib<2,>=0.5 in /usr/local/lib/python3.10/dist-packages (from tensorboard<2.16,>=2.15->tensorflow) (1.2.0)\n",
            "Requirement already satisfied: markdown>=2.6.8 in /usr/local/lib/python3.10/dist-packages (from tensorboard<2.16,>=2.15->tensorflow) (3.6)\n",
            "Requirement already satisfied: requests<3,>=2.21.0 in /usr/local/lib/python3.10/dist-packages (from tensorboard<2.16,>=2.15->tensorflow) (2.31.0)\n",
            "Requirement already satisfied: tensorboard-data-server<0.8.0,>=0.7.0 in /usr/local/lib/python3.10/dist-packages (from tensorboard<2.16,>=2.15->tensorflow) (0.7.2)\n",
            "Requirement already satisfied: werkzeug>=1.0.1 in /usr/local/lib/python3.10/dist-packages (from tensorboard<2.16,>=2.15->tensorflow) (3.0.3)\n",
            "Requirement already satisfied: cachetools<6.0,>=2.0.0 in /usr/local/lib/python3.10/dist-packages (from google-auth<3,>=1.6.3->tensorboard<2.16,>=2.15->tensorflow) (5.3.3)\n",
            "Requirement already satisfied: pyasn1-modules>=0.2.1 in /usr/local/lib/python3.10/dist-packages (from google-auth<3,>=1.6.3->tensorboard<2.16,>=2.15->tensorflow) (0.4.0)\n",
            "Requirement already satisfied: rsa<5,>=3.1.4 in /usr/local/lib/python3.10/dist-packages (from google-auth<3,>=1.6.3->tensorboard<2.16,>=2.15->tensorflow) (4.9)\n",
            "Requirement already satisfied: requests-oauthlib>=0.7.0 in /usr/local/lib/python3.10/dist-packages (from google-auth-oauthlib<2,>=0.5->tensorboard<2.16,>=2.15->tensorflow) (1.3.1)\n",
            "Requirement already satisfied: charset-normalizer<4,>=2 in /usr/local/lib/python3.10/dist-packages (from requests<3,>=2.21.0->tensorboard<2.16,>=2.15->tensorflow) (3.3.2)\n",
            "Requirement already satisfied: idna<4,>=2.5 in /usr/local/lib/python3.10/dist-packages (from requests<3,>=2.21.0->tensorboard<2.16,>=2.15->tensorflow) (3.7)\n",
            "Requirement already satisfied: urllib3<3,>=1.21.1 in /usr/local/lib/python3.10/dist-packages (from requests<3,>=2.21.0->tensorboard<2.16,>=2.15->tensorflow) (2.0.7)\n",
            "Requirement already satisfied: certifi>=2017.4.17 in /usr/local/lib/python3.10/dist-packages (from requests<3,>=2.21.0->tensorboard<2.16,>=2.15->tensorflow) (2024.6.2)\n",
            "Requirement already satisfied: MarkupSafe>=2.1.1 in /usr/local/lib/python3.10/dist-packages (from werkzeug>=1.0.1->tensorboard<2.16,>=2.15->tensorflow) (2.1.5)\n",
            "Requirement already satisfied: pyasn1<0.7.0,>=0.4.6 in /usr/local/lib/python3.10/dist-packages (from pyasn1-modules>=0.2.1->google-auth<3,>=1.6.3->tensorboard<2.16,>=2.15->tensorflow) (0.6.0)\n",
            "Requirement already satisfied: oauthlib>=3.0.0 in /usr/local/lib/python3.10/dist-packages (from requests-oauthlib>=0.7.0->google-auth-oauthlib<2,>=0.5->tensorboard<2.16,>=2.15->tensorflow) (3.2.2)\n"
          ]
        }
      ],
      "source": [
        "pip install tensorflow"
      ]
    },
    {
      "cell_type": "code",
      "source": [
        "import pandas as pd\n",
        "import numpy as np\n",
        "import matplotlib.pyplot as plt\n",
        "from sklearn.model_selection import train_test_split\n",
        "from sklearn.preprocessing import LabelEncoder, StandardScaler\n",
        "import tensorflow as tf\n",
        "from tensorflow.keras import models, layers"
      ],
      "metadata": {
        "id": "4eAr5nGa5HmR"
      },
      "execution_count": 2,
      "outputs": []
    },
    {
      "cell_type": "code",
      "source": [
        "# Memuat dataset\n",
        "\n",
        "url = 'https://raw.githubusercontent.com/A-Feed/Data-Cleaning/main/Dataset/data_label_optimal.csv'\n",
        "data = pd.read_csv(url)"
      ],
      "metadata": {
        "id": "K7KAXVRK5-tV"
      },
      "execution_count": 3,
      "outputs": []
    },
    {
      "cell_type": "code",
      "source": [
        "# Encoding Type Ikan dan Optimal\n",
        "\n",
        "label_encoder_type = LabelEncoder()\n",
        "data['type'] = label_encoder_type.fit_transform(data['type'])\n",
        "\n",
        "label_encoder_optimal = LabelEncoder()\n",
        "data['label'] = label_encoder_optimal.fit_transform(data['label'])"
      ],
      "metadata": {
        "id": "chqbGooM7Gze"
      },
      "execution_count": 4,
      "outputs": []
    },
    {
      "cell_type": "code",
      "source": [
        "# Split Features dan Target\n",
        "\n",
        "X = data[['ph', 'temp', 'type']]\n",
        "Y = data['label']"
      ],
      "metadata": {
        "id": "zAHoVHiH8YTT"
      },
      "execution_count": 5,
      "outputs": []
    },
    {
      "cell_type": "code",
      "source": [
        "# Split dataset\n",
        "\n",
        "X_train, X_test, Y_train, Y_test = train_test_split(X, Y, test_size=0.2, random_state=42)"
      ],
      "metadata": {
        "id": "Qsb0mjg5JzGV"
      },
      "execution_count": 6,
      "outputs": []
    },
    {
      "cell_type": "code",
      "source": [
        "# Scale features\n",
        "\n",
        "scaler_feature = StandardScaler()\n",
        "X_train = scaler_feature.fit_transform(X_train)\n",
        "X_test = scaler_feature.fit_transform(X_test)"
      ],
      "metadata": {
        "id": "m65qcc6L9kVN"
      },
      "execution_count": 7,
      "outputs": []
    },
    {
      "cell_type": "code",
      "source": [
        "model = tf.keras.Sequential([\n",
        "    tf.keras.layers.Dense(16, activation='relu', input_shape=(X_train.shape[1],)),\n",
        "    tf.keras.layers.Dropout(0.5),\n",
        "    tf.keras.layers.Dense(8, activation='relu'),\n",
        "    tf.keras.layers.Dropout(0.5),\n",
        "    tf.keras.layers.Dense(4, activation='relu'),\n",
        "    tf.keras.layers.Dense(1, activation='sigmoid')\n",
        "])"
      ],
      "metadata": {
        "id": "mRcgGvi897ZQ"
      },
      "execution_count": 8,
      "outputs": []
    },
    {
      "cell_type": "code",
      "source": [
        "model.compile(optimizer='adam', loss='binary_crossentropy', metrics=['accuracy'])"
      ],
      "metadata": {
        "id": "mgW5UCv5-gTa"
      },
      "execution_count": 9,
      "outputs": []
    },
    {
      "cell_type": "code",
      "source": [
        "history = model.fit(X_train, Y_train, epochs=30, batch_size=16, validation_split=0.2)"
      ],
      "metadata": {
        "colab": {
          "base_uri": "https://localhost:8080/"
        },
        "id": "_xXIofKy-qlA",
        "outputId": "ecc0601b-8e55-4af7-e7c4-e788fbadadc0"
      },
      "execution_count": 10,
      "outputs": [
        {
          "output_type": "stream",
          "name": "stdout",
          "text": [
            "Epoch 1/30\n",
            "181/181 [==============================] - 2s 4ms/step - loss: 0.8188 - accuracy: 0.5048 - val_loss: 0.6426 - val_accuracy: 0.7497\n",
            "Epoch 2/30\n",
            "181/181 [==============================] - 1s 3ms/step - loss: 0.6344 - accuracy: 0.7317 - val_loss: 0.5876 - val_accuracy: 0.7497\n",
            "Epoch 3/30\n",
            "181/181 [==============================] - 1s 3ms/step - loss: 0.5647 - accuracy: 0.7590 - val_loss: 0.5171 - val_accuracy: 0.7497\n",
            "Epoch 4/30\n",
            "181/181 [==============================] - 1s 3ms/step - loss: 0.5155 - accuracy: 0.7628 - val_loss: 0.4677 - val_accuracy: 0.7497\n",
            "Epoch 5/30\n",
            "181/181 [==============================] - 1s 5ms/step - loss: 0.4886 - accuracy: 0.7628 - val_loss: 0.4288 - val_accuracy: 0.7497\n",
            "Epoch 6/30\n",
            "181/181 [==============================] - 1s 5ms/step - loss: 0.4635 - accuracy: 0.7628 - val_loss: 0.3947 - val_accuracy: 0.7497\n",
            "Epoch 7/30\n",
            "181/181 [==============================] - 1s 5ms/step - loss: 0.4349 - accuracy: 0.7628 - val_loss: 0.3605 - val_accuracy: 0.7497\n",
            "Epoch 8/30\n",
            "181/181 [==============================] - 1s 5ms/step - loss: 0.4052 - accuracy: 0.7628 - val_loss: 0.3298 - val_accuracy: 0.7497\n",
            "Epoch 9/30\n",
            "181/181 [==============================] - 1s 3ms/step - loss: 0.3836 - accuracy: 0.7628 - val_loss: 0.3039 - val_accuracy: 0.7497\n",
            "Epoch 10/30\n",
            "181/181 [==============================] - 1s 3ms/step - loss: 0.3602 - accuracy: 0.7628 - val_loss: 0.2886 - val_accuracy: 0.7497\n",
            "Epoch 11/30\n",
            "181/181 [==============================] - 1s 3ms/step - loss: 0.3384 - accuracy: 0.7628 - val_loss: 0.2718 - val_accuracy: 0.7497\n",
            "Epoch 12/30\n",
            "181/181 [==============================] - 0s 3ms/step - loss: 0.3139 - accuracy: 0.7628 - val_loss: 0.2544 - val_accuracy: 0.7497\n",
            "Epoch 13/30\n",
            "181/181 [==============================] - 1s 3ms/step - loss: 0.2966 - accuracy: 0.8143 - val_loss: 0.2370 - val_accuracy: 0.7497\n",
            "Epoch 14/30\n",
            "181/181 [==============================] - 1s 3ms/step - loss: 0.2823 - accuracy: 0.8434 - val_loss: 0.2221 - val_accuracy: 0.9225\n",
            "Epoch 15/30\n",
            "181/181 [==============================] - 1s 3ms/step - loss: 0.2683 - accuracy: 0.8406 - val_loss: 0.2085 - val_accuracy: 0.9544\n",
            "Epoch 16/30\n",
            "181/181 [==============================] - 1s 3ms/step - loss: 0.2507 - accuracy: 0.8900 - val_loss: 0.1985 - val_accuracy: 0.9447\n",
            "Epoch 17/30\n",
            "181/181 [==============================] - 1s 3ms/step - loss: 0.2385 - accuracy: 0.9080 - val_loss: 0.1868 - val_accuracy: 0.9502\n",
            "Epoch 18/30\n",
            "181/181 [==============================] - 1s 3ms/step - loss: 0.2331 - accuracy: 0.9122 - val_loss: 0.1788 - val_accuracy: 0.9599\n",
            "Epoch 19/30\n",
            "181/181 [==============================] - 1s 3ms/step - loss: 0.2254 - accuracy: 0.9077 - val_loss: 0.1728 - val_accuracy: 0.9530\n",
            "Epoch 20/30\n",
            "181/181 [==============================] - 1s 3ms/step - loss: 0.2093 - accuracy: 0.9184 - val_loss: 0.1661 - val_accuracy: 0.9571\n",
            "Epoch 21/30\n",
            "181/181 [==============================] - 1s 4ms/step - loss: 0.2080 - accuracy: 0.9222 - val_loss: 0.1573 - val_accuracy: 0.9640\n",
            "Epoch 22/30\n",
            "181/181 [==============================] - 1s 4ms/step - loss: 0.1959 - accuracy: 0.9267 - val_loss: 0.1421 - val_accuracy: 0.9793\n",
            "Epoch 23/30\n",
            "181/181 [==============================] - 1s 3ms/step - loss: 0.1875 - accuracy: 0.9326 - val_loss: 0.1344 - val_accuracy: 0.9834\n",
            "Epoch 24/30\n",
            "181/181 [==============================] - 1s 3ms/step - loss: 0.1756 - accuracy: 0.9374 - val_loss: 0.1317 - val_accuracy: 0.9793\n",
            "Epoch 25/30\n",
            "181/181 [==============================] - 1s 3ms/step - loss: 0.1719 - accuracy: 0.9405 - val_loss: 0.1253 - val_accuracy: 0.9834\n",
            "Epoch 26/30\n",
            "181/181 [==============================] - 1s 3ms/step - loss: 0.1709 - accuracy: 0.9391 - val_loss: 0.1142 - val_accuracy: 0.9876\n",
            "Epoch 27/30\n",
            "181/181 [==============================] - 1s 5ms/step - loss: 0.1622 - accuracy: 0.9402 - val_loss: 0.1046 - val_accuracy: 0.9959\n",
            "Epoch 28/30\n",
            "181/181 [==============================] - 1s 5ms/step - loss: 0.1515 - accuracy: 0.9474 - val_loss: 0.1012 - val_accuracy: 0.9903\n",
            "Epoch 29/30\n",
            "181/181 [==============================] - 1s 5ms/step - loss: 0.1505 - accuracy: 0.9461 - val_loss: 0.0959 - val_accuracy: 0.9903\n",
            "Epoch 30/30\n",
            "181/181 [==============================] - 1s 5ms/step - loss: 0.1492 - accuracy: 0.9447 - val_loss: 0.0926 - val_accuracy: 0.9889\n"
          ]
        }
      ]
    },
    {
      "cell_type": "code",
      "source": [
        "# Grafik Loss\n",
        "\n",
        "plt.plot(history.history['loss'], label='Training_Loss')\n",
        "plt.plot(history.history['val_loss'], label='Validation_Loss')\n",
        "plt.title('Model Loss')\n",
        "plt.xlabel('Epochs')\n",
        "plt.ylabel('Loss')\n",
        "plt.legend()\n",
        "plt.show()\n",
        "\n",
        "#Grafik Akurasi\n",
        "plt.plot(history.history['accuracy'], label='Training_Accuracy')\n",
        "plt.plot(history.history['val_accuracy'], label='Validation_Accuracy')\n",
        "plt.title('Model Akurasi')\n",
        "plt.xlabel('Epochs')\n",
        "plt.ylabel('Accuracy')\n",
        "plt.legend()\n",
        "plt.show()"
      ],
      "metadata": {
        "colab": {
          "base_uri": "https://localhost:8080/",
          "height": 927
        },
        "id": "zv9YQBJg_oeq",
        "outputId": "f492039a-2c0e-4b9e-8e26-ae1f2da70f95"
      },
      "execution_count": 11,
      "outputs": [
        {
          "output_type": "display_data",
          "data": {
            "text/plain": [
              "<Figure size 640x480 with 1 Axes>"
            ],
            "image/png": "[encoded data removed]"
          },
          "metadata": {}
        },
        {
          "output_type": "display_data",
          "data": {
            "text/plain": [
              "<Figure size 640x480 with 1 Axes>"
            ],
            "image/png": "[encoded data removed]"
          },
          "metadata": {}
        }
      ]
    },
    {
      "cell_type": "code",
      "source": [
        "# Evaluasi Model\n",
        "\n",
        "loss, accuracy = model.evaluate(X_test, Y_test)\n",
        "print(f'test accuracy : {accuracy*100:.2f}%')"
      ],
      "metadata": {
        "colab": {
          "base_uri": "https://localhost:8080/"
        },
        "id": "sjNxCocNBMgT",
        "outputId": "a7c1bfb3-5065-407a-f274-1f2ad1bfd309"
      },
      "execution_count": 12,
      "outputs": [
        {
          "output_type": "stream",
          "name": "stdout",
          "text": [
            "29/29 [==============================] - 0s 3ms/step - loss: 0.0911 - accuracy: 0.9923\n",
            "test accuracy : 99.23%\n"
          ]
        }
      ]
    },
    {
      "cell_type": "code",
      "source": [
        "# Menyimpan Model\n",
        "\n",
        "model.save('model.h5')"
      ],
      "metadata": {
        "id": "RGf8KJ66C0Bc",
        "colab": {
          "base_uri": "https://localhost:8080/"
        },
        "outputId": "9d9a893e-692f-4c9a-f44a-b26652967e17"
      },
      "execution_count": 13,
      "outputs": [
        {
          "output_type": "stream",
          "name": "stderr",
          "text": [
            "/usr/local/lib/python3.10/dist-packages/keras/src/engine/training.py:3103: UserWarning: You are saving your model as an HDF5 file via `model.save()`. This file format is considered legacy. We recommend using instead the native Keras format, e.g. `model.save('my_model.keras')`.\n",
            "  saving_api.save_model(\n"
          ]
        }
      ]
    },
    {
      "cell_type": "code",
      "source": [
        "#load model\n",
        "\n",
        "loaded_model = tf.keras.models.load_model('model.h5')"
      ],
      "metadata": {
        "id": "Iqc6ybpQMZ49"
      },
      "execution_count": 14,
      "outputs": []
    },
    {
      "cell_type": "code",
      "source": [
        "#membuat objek konverter TFLite\n",
        "\n",
        "tflite_converter = tf.lite.TFLiteConverter.from_keras_model(loaded_model)"
      ],
      "metadata": {
        "id": "3PfJgtnzMx4R"
      },
      "execution_count": 15,
      "outputs": []
    },
    {
      "cell_type": "code",
      "source": [
        "#proses konversi\n",
        "\n",
        "converted_tf_lite_model = tflite_converter.convert()"
      ],
      "metadata": {
        "id": "Sp7it38MM08F"
      },
      "execution_count": 16,
      "outputs": []
    },
    {
      "cell_type": "code",
      "source": [
        "# Menyimpan Model\n",
        "\n",
        "output_file = 'model.tflite'\n",
        "with open(output_file, 'wb') as file_writer:\n",
        "  file_writer.write(converted_tf_lite_model)\n",
        "\n",
        "print(f\"Model telah dikonversi ke format TFLite dan disimpan sebagai '(output_file)'.\")"
      ],
      "metadata": {
        "colab": {
          "base_uri": "https://localhost:8080/"
        },
        "id": "MWuJqa5mM6Yx",
        "outputId": "945dd19c-6eba-4435-d03d-ad460e442663"
      },
      "execution_count": 17,
      "outputs": [
        {
          "output_type": "stream",
          "name": "stdout",
          "text": [
            "Model telah dikonversi ke format TFLite dan disimpan sebagai '(output_file)'.\n"
          ]
        }
      ]
    },
    {
      "cell_type": "code",
      "source": [
        "model_path = 'model.tflite'"
      ],
      "metadata": {
        "id": "ec2NQz1qNHlV"
      },
      "execution_count": 18,
      "outputs": []
    },
    {
      "cell_type": "code",
      "source": [
        "def test_tflite_model(model_path, scaler):\n",
        "    try:\n",
        "        # Load TFLite Model\n",
        "        interpreter = tf.lite.Interpreter(model_path=model_path)\n",
        "        interpreter.allocate_tensors()\n",
        "\n",
        "        # Get input and output tensors\n",
        "        input_details = interpreter.get_input_details()\n",
        "        output_details = interpreter.get_output_details()\n",
        "\n",
        "        # Test input data\n",
        "        test_ph = 7.8\n",
        "        test_temp = 27.0\n",
        "        test_type = 'ikan nila'\n",
        "\n",
        "        # Convert type to numerical\n",
        "        type_mapping = {\n",
        "            'ikan lele': 1,\n",
        "            'ikan nila': 2,\n",
        "            'ikan gurame': 3\n",
        "        }\n",
        "        test_type_numeric = type_mapping[test_type]\n",
        "\n",
        "        # Prepare input data in the required shape and type\n",
        "        input_data = np.array([[test_ph, test_temp, test_type_numeric]], dtype=np.float32)\n",
        "\n",
        "        # Normalize input data using the provided scaler\n",
        "        input_data_scaled = scaler.transform(input_data)\n",
        "\n",
        "        # Set input tensor\n",
        "        interpreter.set_tensor(input_details[0]['index'], input_data_scaled)\n",
        "\n",
        "        interpreter.invoke()\n",
        "\n",
        "        output_data = interpreter.get_tensor(output_details[0]['index'])\n",
        "\n",
        "        # Threshold for classification\n",
        "        threshold = 0.5\n",
        "        if output_data[0][0] > threshold:\n",
        "            prediction = 'optimal'\n",
        "        else:\n",
        "            prediction = 'kurang optimal'\n",
        "\n",
        "        return prediction\n",
        "\n",
        "    except Exception as e:\n",
        "        print(f\"Error testing TFLite model: {str(e)}\")\n",
        "        return None\n",
        "\n",
        "# Load scaler_feature yang digunakan pada saat training\n",
        "#scaler_feature = StandardScaler()\n",
        "#X_train_scaled = scaler_feature.fit_transform(X_train)  # Skala fitur pada data training\n",
        "\n",
        "# Uji model TFLite dengan fungsi yang diperbarui\n",
        "output_label = test_tflite_model(model_path, scaler_feature)\n",
        "\n",
        "if output_label is not None:\n",
        "    print(\"Prediksi:\", output_label)"
      ],
      "metadata": {
        "colab": {
          "base_uri": "https://localhost:8080/"
        },
        "id": "GUTCbLC3M_7y",
        "outputId": "28de6fb9-5496-4e52-e5dc-4eed3f364770"
      },
      "execution_count": 22,
      "outputs": [
        {
          "output_type": "stream",
          "name": "stdout",
          "text": [
            "Prediksi: optimal\n"
          ]
        },
        {
          "output_type": "stream",
          "name": "stderr",
          "text": [
            "/usr/local/lib/python3.10/dist-packages/sklearn/base.py:439: UserWarning: X does not have valid feature names, but StandardScaler was fitted with feature names\n",
            "  warnings.warn(\n"
          ]
        }
      ]
    }
  ]
}